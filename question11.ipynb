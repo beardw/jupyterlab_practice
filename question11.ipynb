{
 "cells": [
  {
   "cell_type": "markdown",
   "id": "37b36187-0e4d-4d54-a821-78f3b5c088ad",
   "metadata": {},
   "source": [
    "# Notebook for assignment 7"
   ]
  },
  {
   "cell_type": "code",
   "execution_count": 12,
   "id": "d22231ae-ca87-4989-b5d6-41f2fad45108",
   "metadata": {},
   "outputs": [
    {
     "name": "stdout",
     "output_type": "stream",
     "text": [
      "5.0\n"
     ]
    }
   ],
   "source": [
    "def compute_mean(values):\n",
    "    average = sum(values)/len(values)\n",
    "    print(average)\n",
    "\n",
    "compute_mean([2, 4, 6, 8])"
   ]
  },
  {
   "cell_type": "markdown",
   "id": "8d4b7361-e7ca-4401-9bc9-3ae90feca850",
   "metadata": {},
   "source": [
    "The compute_mean function takes a list of values and prints the mean. It does this by talking the sum of all the values and then divides this value by the number of values in the list. \n",
    "\n",
    "Below, we can see the mathematical expression expressed two different ways.\n",
    "\n",
    "$$\n",
    "    \\overline{x}= \\frac{x_{1} + x_{2} + \\cdots + x_{n}}{n} = \n",
    "    \\frac{1}{n} \\Bigg( \\sum_{i=1}^n x_{i} \\Bigg)\n",
    "$$"
   ]
  },
  {
   "cell_type": "markdown",
   "id": "eb43aaca-45f0-4951-871f-586736b81538",
   "metadata": {},
   "source": [
    "[Screenshot Link](https://github.com/beardw/jupyterlab_practice/blob/developer-1/cells_screenshot.png)"
   ]
  }
 ],
 "metadata": {
  "kernelspec": {
   "display_name": "Python 3 (ipykernel)",
   "language": "python",
   "name": "python3"
  },
  "language_info": {
   "codemirror_mode": {
    "name": "ipython",
    "version": 3
   },
   "file_extension": ".py",
   "mimetype": "text/x-python",
   "name": "python",
   "nbconvert_exporter": "python",
   "pygments_lexer": "ipython3",
   "version": "3.12.3"
  }
 },
 "nbformat": 4,
 "nbformat_minor": 5
}
